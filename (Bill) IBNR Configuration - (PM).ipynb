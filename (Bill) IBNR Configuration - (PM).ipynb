{
 "cells": [
  {
   "cell_type": "markdown",
   "metadata": {
    "application/vnd.databricks.v1+cell": {
     "cellMetadata": {
      "byteLimit": 2048000,
      "rowLimit": 10000
     },
     "inputWidgets": {},
     "nuid": "a7d6599b-68f7-48df-ae23-00eed6f34b4d",
     "showTitle": false,
     "tableResultSettingsMap": {},
     "title": ""
    }
   },
   "source": [
    "# 1. Global Setup"
   ]
  },
  {
   "cell_type": "markdown",
   "metadata": {
    "application/vnd.databricks.v1+cell": {
     "cellMetadata": {
      "byteLimit": 2048000,
      "rowLimit": 10000
     },
     "inputWidgets": {},
     "nuid": "18dfb876-ef8d-438b-bbeb-1290df6f9378",
     "showTitle": false,
     "tableResultSettingsMap": {},
     "title": ""
    }
   },
   "source": [
    "## 1.1 - Packages"
   ]
  },
  {
   "cell_type": "markdown",
   "metadata": {
    "application/vnd.databricks.v1+cell": {
     "cellMetadata": {
      "byteLimit": 2048000,
      "rowLimit": 10000
     },
     "inputWidgets": {},
     "nuid": "3e2c068a-f9d5-4b9b-ad8f-98775350a425",
     "showTitle": false,
     "tableResultSettingsMap": {},
     "title": ""
    }
   },
   "source": [
    "### 1.1.1 - Installations"
   ]
  },
  {
   "cell_type": "code",
   "execution_count": 0,
   "metadata": {
    "application/vnd.databricks.v1+cell": {
     "cellMetadata": {
      "byteLimit": 2048000,
      "rowLimit": 10000
     },
     "inputWidgets": {},
     "nuid": "d0e8e72d-ed1e-4f6e-a148-985d9e2f5732",
     "showTitle": false,
     "tableResultSettingsMap": {},
     "title": ""
    }
   },
   "outputs": [],
   "source": [
    "# Core Data Handling\n",
    "%pip install pandas --quiet\n",
    "%pip install numpy --quiet\n",
    "%pip install openpyxl --quiet\n",
    "\n",
    "# Modeling and Statistical Analysis\n",
    "%pip install statsmodels --quiet\n",
    "%pip install pygam --quiet\n",
    "\n",
    "# Actuarial Modelling\n",
    "%pip install chainladder --quiet\n",
    "%pip install sparse==0.15.5 --quiet  # Newer version conflicts with chainladder\n",
    "\n",
    "# Performance and Parallel Processing\n",
    "%pip install swifter --quiet\n",
    "%pip install joblib --quiet\n",
    "%pip install tqdm --quiet"
   ]
  },
  {
   "cell_type": "markdown",
   "metadata": {
    "application/vnd.databricks.v1+cell": {
     "cellMetadata": {
      "byteLimit": 2048000,
      "rowLimit": 10000
     },
     "inputWidgets": {},
     "nuid": "589ac2c4-9cbd-4390-aba3-c35f5ea87a17",
     "showTitle": false,
     "tableResultSettingsMap": {},
     "title": ""
    }
   },
   "source": [
    "### 1.1.2 - Imports"
   ]
  },
  {
   "cell_type": "code",
   "execution_count": 0,
   "metadata": {
    "application/vnd.databricks.v1+cell": {
     "cellMetadata": {
      "byteLimit": 2048000,
      "rowLimit": 10000
     },
     "inputWidgets": {},
     "nuid": "291cd156-d73d-4b73-8da8-0c1672f25628",
     "showTitle": false,
     "tableResultSettingsMap": {},
     "title": ""
    }
   },
   "outputs": [],
   "source": [
    "# Core Libraries\n",
    "import pandas as pd\n",
    "import numpy as np\n",
    "from decimal import Decimal\n",
    "from datetime import datetime\n",
    "import itertools\n",
    "import warnings\n",
    "from dateutil.relativedelta import relativedelta\n",
    "\n",
    "# Visualisation\n",
    "import matplotlib.pyplot as plt\n",
    "\n",
    "# Statistical Modelling\n",
    "import statsmodels.api as sm\n",
    "import statsmodels.formula.api as smf\n",
    "from pygam import PoissonGAM, GAM, s, f, te\n",
    "\n",
    "# Actuarial Modelling\n",
    "import chainladder as cl\n",
    "\n",
    "# Performance and Parallel Processing\n",
    "from tqdm import tqdm\n",
    "from joblib import Parallel, delayed\n",
    "\n",
    "# Table updating functions\n",
    "from delta.tables import DeltaTable\n",
    "from pyspark.sql.functions import col"
   ]
  },
  {
   "cell_type": "markdown",
   "metadata": {
    "application/vnd.databricks.v1+cell": {
     "cellMetadata": {
      "byteLimit": 2048000,
      "rowLimit": 10000
     },
     "inputWidgets": {},
     "nuid": "3792fbfc-1f32-445a-b1a8-3718d11ce0b7",
     "showTitle": false,
     "tableResultSettingsMap": {},
     "title": ""
    }
   },
   "source": [
    "### 1.1.3 - Global Parameters"
   ]
  },
  {
   "cell_type": "code",
   "execution_count": 0,
   "metadata": {
    "application/vnd.databricks.v1+cell": {
     "cellMetadata": {
      "byteLimit": 2048000,
      "rowLimit": 10000
     },
     "inputWidgets": {},
     "nuid": "ae1f152f-0f19-4606-9d42-ed8e0ce545a8",
     "showTitle": false,
     "tableResultSettingsMap": {},
     "title": ""
    }
   },
   "outputs": [],
   "source": [
    "# Modelling Parameters\n",
    "development_term = 24\n",
    "last_day_previous_month = datetime(2025, 5, 31)\n",
    "last_n_month_lognormal = 12\n",
    "latest_balance_date_str = last_day_previous_month.strftime('%Y-%m-%d')\n",
    "\n",
    "development_period_end = 24\n",
    "exclude_last_n_month = 6\n",
    "n_periods = 12\n",
    "acc_month_start = pd.to_datetime('2017-01-01')\n",
    "valuation_dates = pd.date_range(start=\"2019-01-31\", end=last_day_previous_month - relativedelta(months=exclude_last_n_month), freq='ME').strftime('%Y-%m-%d').tolist()\n",
    "\n",
    "# Indexation\n",
    "cpi_file_path = '/Volumes/actuaries_prd/general/ibnr/enrichment/cpi.csv'\n",
    "\n",
    "cpi_by_quarter = spark.sql(f\"\"\"\n",
    "    SELECT \n",
    "        Date,\n",
    "        CPI as cpi,\n",
    "        CONCAT(YEAR(Date), 'Q', QUARTER(Date)) AS quarter\n",
    "    FROM actuaries_prd.reference_data.abs_quarterly_cpi\n",
    "\"\"\").toPandas()"
   ]
  },
  {
   "cell_type": "code",
   "execution_count": 0,
   "metadata": {
    "application/vnd.databricks.v1+cell": {
     "cellMetadata": {
      "byteLimit": 2048000,
      "rowLimit": 10000
     },
     "inputWidgets": {},
     "nuid": "5b58486b-9500-44fb-9391-6902bf8bac10",
     "showTitle": false,
     "tableResultSettingsMap": {},
     "title": ""
    }
   },
   "outputs": [],
   "source": [
    "# Collection for loop\n",
    "product_configs = {}\n",
    "\n",
    "# Function to add (if product does not exist) or update (if product exists) configs\n",
    "def update_product_config(config_dict, product_name, input_product_short=None, input_claim_data=None, input_expo_data=None, input_gwp_data=None, input_model_data=None, input_main_level=None, input_sub_levels=None):\n",
    "    # If product doesn't exist, initialize it\n",
    "    if product_name not in config_dict:\n",
    "        config_dict[product_name] = {}\n",
    "\n",
    "    # Update only the parameters that are provided\n",
    "    if input_product_short is not None:\n",
    "        config_dict[product_name][\"product_short\"] = input_product_short\n",
    "    if input_claim_data is not None:\n",
    "        config_dict[product_name][\"claim_data\"] = input_claim_data\n",
    "    if input_expo_data is not None:\n",
    "        config_dict[product_name][\"expo_data\"] = input_expo_data\n",
    "    if input_gwp_data is not None:\n",
    "        config_dict[product_name][\"gwp_data\"] = input_gwp_data\n",
    "    if input_model_data is not None:\n",
    "        config_dict[product_name][\"model_data\"] = input_model_data\n",
    "    if input_main_level is not None:\n",
    "        config_dict[product_name][\"main_level\"] = input_main_level\n",
    "    if input_sub_levels is not None:\n",
    "        config_dict[product_name][\"sub_levels\"] = input_sub_levels\n",
    "\n",
    "# Function to check product_configs\n",
    "def print_product_configs_summary(config_dict):\n",
    "    for product, config in config_dict.items():\n",
    "        print(f\"\\n Product: {product}\")\n",
    "        for key, value in config.items():\n",
    "            if isinstance(value, pd.DataFrame):\n",
    "                print(f\"  - {key}: DataFrame with shape {value.shape}\")\n",
    "            else:\n",
    "                print(f\"  - {key}: {value}\")"
   ]
  },
  {
   "cell_type": "markdown",
   "metadata": {
    "application/vnd.databricks.v1+cell": {
     "cellMetadata": {
      "byteLimit": 2048000,
      "rowLimit": 10000
     },
     "inputWidgets": {},
     "nuid": "7e622484-97d2-4c1d-9078-57809d38fc5d",
     "showTitle": false,
     "tableResultSettingsMap": {},
     "title": ""
    }
   },
   "source": [
    "# 2. Product"
   ]
  },
  {
   "cell_type": "markdown",
   "metadata": {
    "application/vnd.databricks.v1+cell": {
     "cellMetadata": {
      "byteLimit": 2048000,
      "rowLimit": 10000
     },
     "inputWidgets": {},
     "nuid": "b52753df-de51-4ec8-9ec8-a9f84150cfd5",
     "showTitle": false,
     "tableResultSettingsMap": {},
     "title": ""
    }
   },
   "source": [
    "## 2.1 - Private Motor"
   ]
  },
  {
   "cell_type": "markdown",
   "metadata": {
    "application/vnd.databricks.v1+cell": {
     "cellMetadata": {
      "byteLimit": 2048000,
      "rowLimit": 10000
     },
     "inputWidgets": {},
     "nuid": "523cdd4f-567f-4386-88a5-64692f1c9435",
     "showTitle": false,
     "tableResultSettingsMap": {},
     "title": ""
    }
   },
   "source": [
    "### 2.1.1 - APP Parameters"
   ]
  },
  {
   "cell_type": "code",
   "execution_count": 0,
   "metadata": {
    "application/vnd.databricks.v1+cell": {
     "cellMetadata": {
      "byteLimit": 2048000,
      "rowLimit": 10000
     },
     "inputWidgets": {},
     "nuid": "d6a44699-2b40-4ba5-85d6-0b9679644590",
     "showTitle": false,
     "tableResultSettingsMap": {},
     "title": ""
    }
   },
   "outputs": [],
   "source": [
    "# Product Name\n",
    "product = 'Private Motor'\n",
    "product_short = 'PM'\n",
    "\n",
    "# This is the level that the adequacy is calculated at\n",
    "main_level = 'channel' \n",
    "\n",
    "# This is the level that the assumptions need to be set in the APP \n",
    "sub_levels = ['claim_type']"
   ]
  },
  {
   "cell_type": "markdown",
   "metadata": {
    "application/vnd.databricks.v1+cell": {
     "cellMetadata": {
      "byteLimit": 2048000,
      "rowLimit": 10000
     },
     "inputWidgets": {},
     "nuid": "ddf73505-3f53-4787-ace0-daf0410dba56",
     "showTitle": false,
     "tableResultSettingsMap": {},
     "title": ""
    }
   },
   "source": [
    "### 2.1.2 - Claim Data"
   ]
  },
  {
   "cell_type": "code",
   "execution_count": 0,
   "metadata": {
    "application/vnd.databricks.v1+cell": {
     "cellMetadata": {
      "byteLimit": 2048000,
      "rowLimit": 10000
     },
     "inputWidgets": {},
     "nuid": "5073f860-cfe6-4f1c-80f4-3e2c80b8c189",
     "showTitle": false,
     "tableResultSettingsMap": {},
     "title": ""
    }
   },
   "outputs": [],
   "source": [
    "claim_data = spark.sql(f\"\"\"\n",
    "    SELECT \n",
    "        DATE_TRUNC('MM', g.loss_date) AS acc_month, \n",
    "        GREATEST(DATE_TRUNC('MM', a.observation_year_month),DATE_TRUNC('MM', g.loss_date)) AS obs_month,\n",
    "        greatest((YEAR(a.observation_year_month) - YEAR(g.loss_date)) * 12 + MONTH(a.observation_year_month) - MONTH(g.loss_date) + 1,1 ) AS dev_month,\n",
    "        CASE WHEN f.claim_code_mapped IS NULL THEN 'NAF' ELSE f.claim_code_mapped END AS claim_type,\n",
    "        g.ANZO_Super_Class AS product_group,\n",
    "        CASE WHEN (g.cell_name IS NULL and coalesce(right(g.policy_branch_code, 2), 'FI') = 'FI') then 'Growth' \n",
    "             WHEN (g.cell_name IS NULL AND right(g.policy_branch_code, 10) = 'MotorTrade') then 'Merc'\n",
    "             WHEN g.cell_name = 'Private Motor' THEN 'Direct' \n",
    "             ELSE g.cell_name  END AS channel,\n",
    "        SUM(a.new_claims_count) AS claim_count, \n",
    "        SUM(a.net_claims_incurred_movement_amount_gst_excl) AS net_claim_incurred,\n",
    "        SUM(a.gross_claims_incurred_movement_amount_gst_excl) as gross_claim_incurred,\n",
    "        SUM(a.claim_recoveries_movement_amount_gst_excl) as recoveries\n",
    "    FROM \n",
    "        cds_prd.cds.claim_claim_transactionmonth_financialcounts a \n",
    "    LEFT JOIN\n",
    "        cds_prd.rds.claim_claim_transactiondaily_financialcounts_detail g on a.claim_fkey = g.claim_origin_key\n",
    "    LEFT JOIN \n",
    "        ids_prd.ref.ref_cause_of_loss c ON a.cause_of_loss_fkey = c.origin_key\n",
    "    LEFT JOIN\n",
    "        actuaries_prd.general.pm_claimtype_mapping f on c.claim_code = f.claim_code\n",
    "    LEFT JOIN \n",
    "        (select distinct PolicyNumber,ReferenceProductCode_Ext FROM staging_prd.gw.pc_policyperiod) h ON g.Policy_Number = h.PolicyNumber\n",
    "    WHERE \n",
    "        YEAR(g.loss_date) >=2017\n",
    "        AND g.anzo_super_class = '{product}'\n",
    "        AND a.observation_year_month <= '{latest_balance_date_str}'\n",
    "        AND g.loss_date <= '{latest_balance_date_str}'\n",
    "        AND c.incident_description is not null\n",
    "        AND coalesce(Distribution_Area, 'NULL') <> 'Motorcycle'\n",
    "        AND (REPLACE(g.account_number, '||', '') not in ('AVMYTESLA', '56PORSCHN', '56PORSCHR','1Q0009136','1Q0009137','1Q0009138','1Q0009139','1Q0009140','1Q0009142','1Q0009162','1Q0009168','1Q0009178','40STELLA') or g.account_number is null)\n",
    "        AND coalesce(ReferenceProductCode_Ext, 'NULL') <>'CVT'\n",
    "        AND coalesce(claims_category) <>'Catastrophe'\n",
    "    GROUP BY \n",
    "        all\n",
    "    ORDER BY \n",
    "        all\n",
    "    \"\"\").toPandas()\n"
   ]
  },
  {
   "cell_type": "markdown",
   "metadata": {
    "application/vnd.databricks.v1+cell": {
     "cellMetadata": {
      "byteLimit": 2048000,
      "rowLimit": 10000
     },
     "inputWidgets": {},
     "nuid": "1ab0c2a1-11e3-4cb8-9932-493defe77e65",
     "showTitle": false,
     "tableResultSettingsMap": {},
     "title": ""
    }
   },
   "source": [
    "### 2.1.3 - Exposure Data"
   ]
  },
  {
   "cell_type": "code",
   "execution_count": 0,
   "metadata": {
    "application/vnd.databricks.v1+cell": {
     "cellMetadata": {
      "byteLimit": 2048000,
      "rowLimit": 10000
     },
     "inputWidgets": {},
     "nuid": "0b56bbcb-73ae-43b6-ab37-434f23ebc706",
     "showTitle": false,
     "tableResultSettingsMap": {},
     "title": ""
    }
   },
   "outputs": [],
   "source": [
    "expo_data = spark.sql(f\"\"\"\n",
    "WITH policy_transformed AS (\n",
    "    SELECT DISTINCT \n",
    "        CONCAT(COMPANY_CODE, POLICY_BR, POLICY_NO, POLICY_TYP) AS Policy, \n",
    "        CONCAT(ACCOUNT_BR, ACCOUNT_NO) AS Account,\n",
    "        ROW_NUMBER() OVER (PARTITION BY COMPANY_CODE, POLICY_BR, POLICY_NO, POLICY_TYP ORDER BY DATE_EFFECT DESC) AS rn\n",
    "    FROM STAGING_PRD.EVO.tal_evo_polh_01\n",
    "    WHERE ACCOUNT_BR IS NOT NULL AND ACCOUNT_NO IS NOT NULL\n",
    "),\n",
    "expo_data_raw AS (\n",
    "    SELECT  \n",
    "        DATE_TRUNC('MM', exp_start) AS acc_month,\n",
    "        CASE \n",
    "            WHEN channel = 'ANZ' THEN 'ANZ'\n",
    "            WHEN channel = 'BD' THEN 'Broker Distribution'\n",
    "            WHEN channel = 'ELDERS' THEN 'Elders'\n",
    "            WHEN channel = 'FIOTHER' THEN 'FI Other'\n",
    "            WHEN channel = 'M TRADE' THEN 'Motor Trades'\n",
    "            WHEN channel = 'DIRECT' THEN 'Direct'\n",
    "            WHEN channel in ('AUSPOST', 'KOGAN') THEN 'Growth'\n",
    "            WHEN channel = 'MERCEDE' THEN 'Merc'\n",
    "            ELSE channel\n",
    "        END AS channel,\n",
    "        F_policyno AS policyno,\n",
    "        earnprem AS earnprem,\n",
    "        exposure AS exposure\n",
    "    FROM actuarial_onprem_sqlserver.dbo.fact_mpa_prem\n",
    "    WHERE exp_start >= '2017-01-01' AND exp_start <= '{latest_balance_date_str}'\n",
    ")\n",
    "SELECT e.acc_month, e.channel, SUM(e.earnprem) AS earnprem, SUM(e.exposure) AS exposure\n",
    "FROM expo_data_raw e\n",
    "LEFT JOIN policy_transformed p \n",
    "    ON e.policyno = p.Policy AND p.rn = 1\n",
    "WHERE p.Account IS NULL OR p.Account NOT IN ('AVMYTESLA', '56PORSCHN', '56PORSCHR','1Q0009136','1Q0009137',\n",
    "                      '1Q0009138','1Q0009139','1Q0009140','1Q0009142','1Q0009162',\n",
    "                      '1Q0009168','1Q0009178','40STELLA')\n",
    "GROUP BY e.acc_month, e.channel\n",
    "order by 1,2\n",
    "\"\"\").toPandas()"
   ]
  },
  {
   "cell_type": "code",
   "execution_count": 0,
   "metadata": {
    "application/vnd.databricks.v1+cell": {
     "cellMetadata": {
      "byteLimit": 2048000,
      "implicitDf": true,
      "rowLimit": 10000
     },
     "inputWidgets": {},
     "nuid": "bbb037a7-fdd1-464b-adaf-c4be551f3d5f",
     "showTitle": false,
     "tableResultSettingsMap": {},
     "title": ""
    }
   },
   "outputs": [],
   "source": [
    "%sql\n",
    "select * from actuarial_onprem_sqlserver.dbo.fact_mpa_prem"
   ]
  },
  {
   "cell_type": "markdown",
   "metadata": {
    "application/vnd.databricks.v1+cell": {
     "cellMetadata": {
      "byteLimit": 2048000,
      "rowLimit": 10000
     },
     "inputWidgets": {},
     "nuid": "ad24398b-2706-4768-9307-5d670f924fae",
     "showTitle": false,
     "tableResultSettingsMap": {},
     "title": ""
    }
   },
   "source": [
    "### 2.1.4 - GWP Data"
   ]
  },
  {
   "cell_type": "code",
   "execution_count": 0,
   "metadata": {
    "application/vnd.databricks.v1+cell": {
     "cellMetadata": {
      "byteLimit": 2048000,
      "rowLimit": 10000
     },
     "inputWidgets": {},
     "nuid": "f9d76291-36c0-4fd6-a0d2-585faff9c7ea",
     "showTitle": false,
     "tableResultSettingsMap": {},
     "title": ""
    }
   },
   "outputs": [],
   "source": [
    "gwp_data = spark.sql(f\"\"\"select count(distinct policynumber) as policy_count, count(*) as risk_count, sum(`Premium Excl. Tax`) as GWP, \n",
    "case when Producer in ('AUSPOST', 'KOGAN') then 'Growth'\n",
    "     when Producer = 'MERCEDESBENZ' then 'Merc'\n",
    "     when DistributorChannel in ('FI', 'FIOTHER') then 'FI Other' \n",
    "     when DistributorChannel ='BD' then 'Broker Distribution' \n",
    "     when DistributorChannel in ('M Trade', 'MotorTrade') then 'Motor Trades'\n",
    "     when DistributorChannel = 'ELDERS' then 'Elders'\n",
    "     else DistributorChannel end as DistributorChannel,\n",
    "CONCAT(YEAR(effectiveDt), 'Q', CEILING(MONTH(effectiveDt) / 3.0))  as YearQuarter\n",
    "FROM actuarial_onprem_sqlserver.dbo.PM_Portfolio_Growth\n",
    "where flag_quote = 1  and ((endorsementType = 'Submission' and   flag_bound = 1) or \n",
    "  (endorsementType = 'Renewal' and flag_paid = 1  and if(`Source System Code` = 'GW' and DistributorChannel_detailed != 'ANZ', 1, 0) = 0 or PaidDate IS NOT NULL))\n",
    " group by all\n",
    " order by all\"\"\").toPandas()"
   ]
  },
  {
   "cell_type": "markdown",
   "metadata": {
    "application/vnd.databricks.v1+cell": {
     "cellMetadata": {
      "byteLimit": 2048000,
      "rowLimit": 10000
     },
     "inputWidgets": {},
     "nuid": "88d42ee7-0efa-495f-8f3e-dddf404938e9",
     "showTitle": false,
     "tableResultSettingsMap": {},
     "title": ""
    }
   },
   "source": [
    "### 2.1.5 - Collection"
   ]
  },
  {
   "cell_type": "code",
   "execution_count": 0,
   "metadata": {
    "application/vnd.databricks.v1+cell": {
     "cellMetadata": {
      "byteLimit": 2048000,
      "rowLimit": 10000
     },
     "inputWidgets": {},
     "nuid": "ba8c4191-7395-4020-99dd-ba173fde0e35",
     "showTitle": false,
     "tableResultSettingsMap": {},
     "title": ""
    }
   },
   "outputs": [],
   "source": [
    "# Attach and clean for earnprem and exposure data\n",
    "expo_data['dev_month'] = 1\n",
    "data = pd.merge(\n",
    "    claim_data,\n",
    "    expo_data,\n",
    "    on=['acc_month', 'dev_month', 'channel'], # May need adjusting/parameterising - aggLevels is at channel + claim_type but expo_data only aggregated at channel level\n",
    "    how='left'\n",
    ")\n",
    "data[['earnprem', 'exposure']] = data[['earnprem', 'exposure']].fillna(0)\n",
    "\n",
    "# Filter data input\n",
    "model_data = data[\n",
    "    (data['dev_month'] <= development_term) &\n",
    "    (data['acc_month'] >= acc_month_start)\n",
    "]"
   ]
  },
  {
   "cell_type": "code",
   "execution_count": 0,
   "metadata": {
    "application/vnd.databricks.v1+cell": {
     "cellMetadata": {
      "byteLimit": 2048000,
      "rowLimit": 10000
     },
     "inputWidgets": {},
     "nuid": "bf0d2b87-5d17-4e06-98b7-5898aa0744b3",
     "showTitle": false,
     "tableResultSettingsMap": {},
     "title": ""
    }
   },
   "outputs": [],
   "source": [
    "display(model_data)"
   ]
  },
  {
   "cell_type": "code",
   "execution_count": 0,
   "metadata": {
    "application/vnd.databricks.v1+cell": {
     "cellMetadata": {
      "byteLimit": 2048000,
      "rowLimit": 10000
     },
     "inputWidgets": {},
     "nuid": "1a4931bc-a85a-4643-887e-67036beff40c",
     "showTitle": false,
     "tableResultSettingsMap": {},
     "title": ""
    }
   },
   "outputs": [],
   "source": [
    "update_product_config(product_configs, product, input_product_short=product_short, input_claim_data=claim_data, input_expo_data=expo_data, input_gwp_data=gwp_data, input_model_data=model_data, input_main_level=main_level, input_sub_levels=sub_levels)\n",
    "print_product_configs_summary(product_configs)"
   ]
  },
  {
   "cell_type": "markdown",
   "metadata": {
    "application/vnd.databricks.v1+cell": {
     "cellMetadata": {
      "byteLimit": 2048000,
      "rowLimit": 10000
     },
     "inputWidgets": {},
     "nuid": "5eb205b4-1d66-42f1-8495-c9502dd43917",
     "showTitle": false,
     "tableResultSettingsMap": {},
     "title": ""
    }
   },
   "source": [
    "# 3. Model Template"
   ]
  },
  {
   "cell_type": "markdown",
   "metadata": {
    "application/vnd.databricks.v1+cell": {
     "cellMetadata": {
      "byteLimit": 2048000,
      "rowLimit": 10000
     },
     "inputWidgets": {},
     "nuid": "4d289de9-90e1-4103-9f33-17e59841309b",
     "showTitle": false,
     "tableResultSettingsMap": {},
     "title": ""
    }
   },
   "source": [
    "## 3.1 - Product Configurations"
   ]
  },
  {
   "cell_type": "code",
   "execution_count": 0,
   "metadata": {
    "application/vnd.databricks.v1+cell": {
     "cellMetadata": {
      "byteLimit": 2048000,
      "rowLimit": 10000
     },
     "inputWidgets": {},
     "nuid": "76a9e991-87a6-4d14-a026-3ef2fdb7988a",
     "showTitle": false,
     "tableResultSettingsMap": {},
     "title": ""
    }
   },
   "outputs": [],
   "source": [
    "# product_configs.pop(\"Private Motor\")\n",
    "print_product_configs_summary(product_configs)"
   ]
  },
  {
   "cell_type": "markdown",
   "metadata": {
    "application/vnd.databricks.v1+cell": {
     "cellMetadata": {
      "byteLimit": 2048000,
      "rowLimit": 10000
     },
     "inputWidgets": {},
     "nuid": "94932ac1-9cd5-4878-a234-a62a62bf6153",
     "showTitle": false,
     "tableResultSettingsMap": {},
     "title": ""
    }
   },
   "source": [
    "## 3.2 - Model Loop"
   ]
  },
  {
   "cell_type": "code",
   "execution_count": 0,
   "metadata": {
    "application/vnd.databricks.v1+cell": {
     "cellMetadata": {
      "byteLimit": 2048000,
      "rowLimit": 10000
     },
     "inputWidgets": {},
     "nuid": "401b2de3-0a5f-466c-a7cd-69377ab38e54",
     "showTitle": false,
     "tableResultSettingsMap": {},
     "title": ""
    }
   },
   "outputs": [],
   "source": [
    "%run \"./IBNR Modelling Template (Standardised)\""
   ]
  },
  {
   "cell_type": "markdown",
   "metadata": {
    "application/vnd.databricks.v1+cell": {
     "cellMetadata": {
      "byteLimit": 2048000,
      "rowLimit": 10000
     },
     "inputWidgets": {},
     "nuid": "227b8fef-1d6b-455e-83b2-8458dd88ec54",
     "showTitle": false,
     "tableResultSettingsMap": {},
     "title": ""
    }
   },
   "source": [
    "# 4. Diagnostics"
   ]
  },
  {
   "cell_type": "code",
   "execution_count": 0,
   "metadata": {
    "application/vnd.databricks.v1+cell": {
     "cellMetadata": {
      "byteLimit": 2048000,
      "rowLimit": 10000
     },
     "inputWidgets": {},
     "nuid": "74f85ee3-9166-4c84-a64f-0716de9d5aa8",
     "showTitle": false,
     "tableResultSettingsMap": {},
     "title": ""
    }
   },
   "outputs": [],
   "source": [
    "# # Read the HTML file content\n",
    "# with open(\"/Workspace/Shared/General/IBNR project/ibnr_modelling/temp_output.html\", \"r\") as f:\n",
    "#     html_content = f.read()\n",
    "\n",
    "# # Display it in the notebook\n",
    "# displayHTML(html_content)"
   ]
  },
  {
   "cell_type": "markdown",
   "metadata": {
    "application/vnd.databricks.v1+cell": {
     "cellMetadata": {
      "byteLimit": 2048000,
      "rowLimit": 10000
     },
     "inputWidgets": {},
     "nuid": "6b1a9d6f-4db5-4516-a2ec-e1242f86036f",
     "showTitle": false,
     "tableResultSettingsMap": {},
     "title": ""
    }
   },
   "source": [
    "# 5. Application Input"
   ]
  },
  {
   "cell_type": "code",
   "execution_count": 0,
   "metadata": {
    "application/vnd.databricks.v1+cell": {
     "cellMetadata": {
      "byteLimit": 2048000,
      "rowLimit": 10000
     },
     "collapsed": true,
     "inputWidgets": {},
     "nuid": "362d8a45-bdba-4101-b051-2086c28cd762",
     "showTitle": false,
     "tableResultSettingsMap": {},
     "title": ""
    }
   },
   "outputs": [],
   "source": [
    "product_configs.items()"
   ]
  },
  {
   "cell_type": "code",
   "execution_count": 0,
   "metadata": {
    "application/vnd.databricks.v1+cell": {
     "cellMetadata": {
      "byteLimit": 2048000,
      "rowLimit": 10000
     },
     "inputWidgets": {},
     "nuid": "01f87802-fc98-445d-a4f4-0a73f701efb0",
     "showTitle": false,
     "tableResultSettingsMap": {},
     "title": ""
    }
   },
   "outputs": [],
   "source": [
    "app_config_rows = [\n",
    "    {\n",
    "        \"Product\": product,\n",
    "        \"Table\": f\"actuaries_prd.general.{config.get('product_short', '').lower()}_ultimates_new\",\n",
    "        \"Main_Level\": config.get('main_level', ''),\n",
    "        \"Sub_Levels\": config.get('sub_levels', '')\n",
    "    }\n",
    "    for product, config in product_configs.items()\n",
    "]\n",
    "\n",
    "\n",
    "\n",
    "# Create a DataFrame from the new configuration rows\n",
    "new_df = spark.createDataFrame(app_config_rows)\n",
    "\n",
    "# Define the target Delta table\n",
    "target_table = DeltaTable.forName(spark, \"actuaries_prd.general.ibnr_product_configs\")\n",
    "\n",
    "# Perform the merge (upsert)\n",
    "target_table.alias(\"target\").merge(\n",
    "    new_df.alias(\"source\"),\n",
    "    \"target.Product = source.Product\"\n",
    ").whenMatchedUpdateAll() \\\n",
    " .whenNotMatchedInsertAll() \\\n",
    " .execute()\n"
   ]
  }
 ],
 "metadata": {
  "application/vnd.databricks.v1+notebook": {
   "computePreferences": null,
   "dashboards": [],
   "environmentMetadata": {
    "base_environment": "",
    "environment_version": "2"
   },
   "inputWidgetPreferences": null,
   "language": "python",
   "notebookMetadata": {
    "mostRecentlyExecutedCommandWithImplicitDF": {
     "commandId": 1065976294036542,
     "dataframes": [
      "_sqldf"
     ]
    },
    "pythonIndentUnit": 4
   },
   "notebookName": "(Bill) IBNR Configuration - (PM)",
   "widgets": {}
  },
  "language_info": {
   "name": "python"
  }
 },
 "nbformat": 4,
 "nbformat_minor": 0
}
